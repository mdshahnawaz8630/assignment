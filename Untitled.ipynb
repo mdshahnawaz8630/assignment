{
 "cells": [
  {
   "cell_type": "markdown",
   "id": "b7f6f34a-9dab-4e04-bcf8-c209ebb41465",
   "metadata": {},
   "source": [
    "Q1, Create a vehicle class with an init method having instance variables as name_of_vehicle, max_speed\n",
    "and average_of_vehicle."
   ]
  },
  {
   "cell_type": "code",
   "execution_count": 1,
   "id": "d8bbeb9c-4821-41d0-a2ca-574db0e75860",
   "metadata": {},
   "outputs": [],
   "source": [
    "class vehicle:\n",
    "    def __init__(self,name_of_vechile,max_speed,average_of_vechile):\n",
    "        self.name_of_vehicle = name_of_vechile\n",
    "        self.max_spped = max_speed\n",
    "        self.average_of_vechile = average_of_vechile"
   ]
  },
  {
   "cell_type": "code",
   "execution_count": 9,
   "id": "d41a8097-f861-4707-912c-66dfaa4476f2",
   "metadata": {},
   "outputs": [],
   "source": [
    "car = vehicle(\"lamborgani\",200,100)"
   ]
  },
  {
   "cell_type": "code",
   "execution_count": 11,
   "id": "5fd5e221-8874-40b6-824a-261e558f435e",
   "metadata": {},
   "outputs": [
    {
     "data": {
      "text/plain": [
       "'lamborgani'"
      ]
     },
     "execution_count": 11,
     "metadata": {},
     "output_type": "execute_result"
    }
   ],
   "source": [
    "car.name_of_vehicle"
   ]
  },
  {
   "cell_type": "code",
   "execution_count": 15,
   "id": "e3d4b0a4-a4d9-4571-bec1-bc5dfc48cc5c",
   "metadata": {},
   "outputs": [
    {
     "data": {
      "text/plain": [
       "100"
      ]
     },
     "execution_count": 15,
     "metadata": {},
     "output_type": "execute_result"
    }
   ],
   "source": [
    "car.average_of_vechile"
   ]
  },
  {
   "cell_type": "code",
   "execution_count": 16,
   "id": "c009995c-6f33-4c85-b851-0e87a0f6810e",
   "metadata": {},
   "outputs": [
    {
     "data": {
      "text/plain": [
       "200"
      ]
     },
     "execution_count": 16,
     "metadata": {},
     "output_type": "execute_result"
    }
   ],
   "source": [
    "car.max_spped"
   ]
  },
  {
   "cell_type": "markdown",
   "id": "9cc751a8-1ed9-4992-b143-c193034bf668",
   "metadata": {},
   "source": [
    "Q2. Create a child class car from the vehicle class created in Que 1, which will inherit the vehicle class.\n",
    "Create a method named seating_capacity which takes capacity as an argument and returns the name of\n",
    "the vehicle and its seating capacity."
   ]
  },
  {
   "cell_type": "code",
   "execution_count": 65,
   "id": "2084fbe5-964c-42e7-aab0-a0c3575d931e",
   "metadata": {},
   "outputs": [],
   "source": [
    "class vehicle1:\n",
    "    def __init__(self,name_of_vechile,max_speed,average_of_vechile):\n",
    "        self.name_of_vehicle = name_of_vechile\n",
    "        self.max_spped = max_speed\n",
    "        self.average_of_vechile = average_of_vechile\n",
    "        \n",
    "class car(vehicle1):\n",
    "    def __init__(self,car_color,car_model):\n",
    "        self.car_color = car_color\n",
    "        self.car_model = car_model\n",
    "        \n",
    "class seating_capacity(car):\n",
    "    pass"
   ]
  },
  {
   "cell_type": "code",
   "execution_count": 67,
   "id": "c9e1846d-9ddd-4c22-81e2-1fff90b693d3",
   "metadata": {},
   "outputs": [],
   "source": [
    "seating = seating_capacity(\"red\",\"intoko\")"
   ]
  },
  {
   "cell_type": "code",
   "execution_count": 70,
   "id": "858d915b-73be-4cbd-b266-172ce345bffc",
   "metadata": {},
   "outputs": [],
   "source": [
    "car_details = vehicle1(\"TATA\",200,100)"
   ]
  },
  {
   "cell_type": "code",
   "execution_count": 73,
   "id": "d0256014-4bd5-4c23-89ea-b6bc949eacfb",
   "metadata": {},
   "outputs": [
    {
     "data": {
      "text/plain": [
       "'red'"
      ]
     },
     "execution_count": 73,
     "metadata": {},
     "output_type": "execute_result"
    }
   ],
   "source": [
    "seating.car_color"
   ]
  },
  {
   "cell_type": "code",
   "execution_count": 74,
   "id": "a688a606-6361-42ae-b666-3c6951c23077",
   "metadata": {},
   "outputs": [
    {
     "data": {
      "text/plain": [
       "200"
      ]
     },
     "execution_count": 74,
     "metadata": {},
     "output_type": "execute_result"
    }
   ],
   "source": [
    "car_details.max_spped"
   ]
  },
  {
   "cell_type": "markdown",
   "id": "eb438dbf-6b97-4e9e-babf-9e612f619d35",
   "metadata": {},
   "source": [
    "Q3. What is multiple inheritance? Write a python code to demonstrate multiple inheritance."
   ]
  },
  {
   "cell_type": "markdown",
   "id": "110b3051-0630-43fc-8619-c18a6cc8ab7e",
   "metadata": {},
   "source": [
    "inheitance which contain move parents classes and only one child class is called multiple inheritance"
   ]
  },
  {
   "cell_type": "code",
   "execution_count": 103,
   "id": "76c1a464-7dd0-43ee-833c-f5ac4ce920a4",
   "metadata": {},
   "outputs": [],
   "source": [
    "class Akilesh:\n",
    "    back = \"oracle db and java\"\n",
    "    def backend(self):\n",
    "        print(\"backend task implement\" ,self.back)\n",
    "        \n",
    "class Ankush:\n",
    "    front = \"html css javascripyt\"\n",
    "    def fronted(self):\n",
    "        print(\"fronted task implement \",self.front)\n",
    "        \n",
    "class teamlead(Ankush , Akilesh):\n",
    "    def show(self):\n",
    "        print(\"dymanic webiste creates\")"
   ]
  },
  {
   "cell_type": "code",
   "execution_count": 104,
   "id": "e7d7afa6-e598-4d95-b4ee-c2a1a78b700c",
   "metadata": {},
   "outputs": [],
   "source": [
    "Mainteam = teamlead()"
   ]
  },
  {
   "cell_type": "code",
   "execution_count": 105,
   "id": "d08b83c6-4640-4c09-8ce9-11597b5b5aa6",
   "metadata": {},
   "outputs": [
    {
     "name": "stdout",
     "output_type": "stream",
     "text": [
      "backend task implement oracle db and java\n"
     ]
    }
   ],
   "source": [
    "Mainteam.backend()"
   ]
  },
  {
   "cell_type": "code",
   "execution_count": 106,
   "id": "96e6d442-2a98-43b4-8c77-407d07bb5243",
   "metadata": {},
   "outputs": [
    {
     "name": "stdout",
     "output_type": "stream",
     "text": [
      "fronted task implement  html css javascripyt\n"
     ]
    }
   ],
   "source": [
    "Mainteam.fronted()"
   ]
  },
  {
   "cell_type": "markdown",
   "id": "93270f74-3c83-4b66-84af-c0dd2ff3f970",
   "metadata": {},
   "source": [
    "Q4. What are getter and setter in python? Create a class and create a getter and a setter method in this\n",
    "class."
   ]
  },
  {
   "cell_type": "markdown",
   "id": "6f13a7c2-c7ec-45b7-bfc8-51d89fcb71ae",
   "metadata": {},
   "source": [
    "Absteaction is a process of hiding the implementation details from the user only the highlighted set of srservices provided to the user"
   ]
  },
  {
   "cell_type": "code",
   "execution_count": 107,
   "id": "cf8469be-3afc-4d93-b8ab-04c5fb467dff",
   "metadata": {},
   "outputs": [],
   "source": [
    "class my_class:\n",
    "    def __init__(self):\n",
    "        self._my_varible = None\n",
    "     \n",
    "    def get_my_varible(self):\n",
    "        return self._my_varible\n",
    "    def set_my_varible(self, value):\n",
    "        self._my_varible = value"
   ]
  },
  {
   "cell_type": "code",
   "execution_count": 108,
   "id": "29d8f9e9-e57a-4861-a6f2-59d496e24786",
   "metadata": {},
   "outputs": [],
   "source": [
    "# Tesh the class\n",
    "my_object = my_class()"
   ]
  },
  {
   "cell_type": "code",
   "execution_count": 109,
   "id": "8bdd535e-5a32-4ebe-9b27-f08311ec147d",
   "metadata": {},
   "outputs": [],
   "source": [
    "my_object.set_my_varible(42)"
   ]
  },
  {
   "cell_type": "code",
   "execution_count": 111,
   "id": "7916d054-fd6e-4ee0-9cfd-c661abe9424e",
   "metadata": {},
   "outputs": [],
   "source": [
    "value =my_object.get_my_varible()"
   ]
  },
  {
   "cell_type": "code",
   "execution_count": 112,
   "id": "5421fdff-a0c9-46da-bcbc-c403bd4c29b4",
   "metadata": {},
   "outputs": [
    {
     "name": "stdout",
     "output_type": "stream",
     "text": [
      "42\n"
     ]
    }
   ],
   "source": [
    "print(value)"
   ]
  },
  {
   "cell_type": "markdown",
   "id": "68db8d11-1ed0-4923-9e5d-093dd3e559c2",
   "metadata": {},
   "source": [
    "Q5.What is method overriding in python? Write a python code to demonstrate method overriding."
   ]
  },
  {
   "cell_type": "markdown",
   "id": "47500509-9f9b-4287-97be-3287b648d793",
   "metadata": {},
   "source": [
    "Method overriding in Python is a feature that allows a subclass to provide a different implementation of a method that is already defined in its superclass. This means that the subclass can define a method with the same name, parameters, and return type as the method in the superclass and provide its own implementation."
   ]
  },
  {
   "cell_type": "code",
   "execution_count": 114,
   "id": "32a352e1-15f1-49a5-846f-b63c57592f35",
   "metadata": {},
   "outputs": [],
   "source": [
    "class Animal:\n",
    "    def speak(self):\n",
    "        print(\"The animal make a sound\")\n",
    "    \n",
    "class Cat(Animal):\n",
    "    def speak(self):\n",
    "        print(\"Meow\")\n",
    "        \n",
    "class Dog(Animal):\n",
    "    def speak(self):\n",
    "        print(\"Woof\")"
   ]
  },
  {
   "cell_type": "code",
   "execution_count": 119,
   "id": "6f6cbde4-a716-48a0-8233-fdc1436ac9d8",
   "metadata": {},
   "outputs": [],
   "source": [
    "dog =Dog()\n",
    "animal = Animal()\n",
    "cat = Cat()"
   ]
  },
  {
   "cell_type": "code",
   "execution_count": 122,
   "id": "d53ef395-77a2-4b29-8add-0a81a33cbd72",
   "metadata": {},
   "outputs": [
    {
     "name": "stdout",
     "output_type": "stream",
     "text": [
      "Woof\n",
      "The animal make a sound\n",
      "Meow\n"
     ]
    }
   ],
   "source": [
    "dog.speak()\n",
    "\n",
    "cat.speak()"
   ]
  },
  {
   "cell_type": "code",
   "execution_count": null,
   "id": "f83f849d-b749-4b8e-91a7-0eb3bd5799c0",
   "metadata": {},
   "outputs": [],
   "source": []
  }
 ],
 "metadata": {
  "kernelspec": {
   "display_name": "Python 3 (ipykernel)",
   "language": "python",
   "name": "python3"
  },
  "language_info": {
   "codemirror_mode": {
    "name": "ipython",
    "version": 3
   },
   "file_extension": ".py",
   "mimetype": "text/x-python",
   "name": "python",
   "nbconvert_exporter": "python",
   "pygments_lexer": "ipython3",
   "version": "3.10.8"
  }
 },
 "nbformat": 4,
 "nbformat_minor": 5
}
