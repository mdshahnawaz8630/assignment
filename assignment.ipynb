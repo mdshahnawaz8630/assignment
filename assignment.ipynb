{
 "cells": [
  {
   "cell_type": "code",
   "execution_count": null,
   "id": "fb412631-bbfc-4ae6-93a6-67b16697e24b",
   "metadata": {},
   "outputs": [],
   "source": [
    "\"Q1\" \n",
    " single line comments : To add comment on a single line you can use the hash symbol (#) followed by your comment\n",
    "     for example = #this is single line comments"
   ]
  },
  {
   "cell_type": "code",
   "execution_count": null,
   "id": "153b6395-1986-4d4a-98d6-150d6df94049",
   "metadata": {},
   "outputs": [],
   "source": [
    "\"Q2\"\n",
    "  variable are used to maniplute data they cost as different types such as numbers string or object varibles provides a way to acess and maniplate data throught your progrm\n",
    "    # Delaration & assigmnet of variables\n",
    "    name = \"john\" #assigment string value to the variable \"name\"\n",
    "    age = 25 #assigmnet int value to the variable of \"age\"\n",
    "    Price = 9.99 #assigment of floating point value to the variable of \"price\""
   ]
  },
  {
   "cell_type": "code",
   "execution_count": null,
   "id": "fd9a4b0f-65b4-4153-a0d8-b2079451cc16",
   "metadata": {},
   "outputs": [],
   "source": [
    "\"Q3\"\n"
   ]
  },
  {
   "cell_type": "code",
   "execution_count": null,
   "id": "2bd45a59-7bdb-45b2-8af7-8199334df9bd",
   "metadata": {},
   "outputs": [],
   "source": [
    "## convert a value to an intger data type\n",
    "float_num = 5.14\n",
    "int_num = int(float_num)\n",
    "type(int_num)"
   ]
  },
  {
   "cell_type": "code",
   "execution_count": null,
   "id": "e7a3c76a-b071-4984-8bb1-9b37daee6691",
   "metadata": {},
   "outputs": [],
   "source": [
    "## convert a value to a floating point data type\n",
    "int_num1 = 3\n",
    "float_num1 = float(int_num1)\n",
    "type(float_num1)"
   ]
  },
  {
   "cell_type": "code",
   "execution_count": null,
   "id": "8dbf1236-0ac9-4c8d-86e3-5511787d1931",
   "metadata": {},
   "outputs": [],
   "source": [
    "## convert a value to a string data type\n",
    "num = 10\n",
    "str_num = str(num)\n",
    "type(str_num)"
   ]
  },
  {
   "cell_type": "code",
   "execution_count": null,
   "id": "4506e4b9-0951-4cd5-8e84-abd9b9d1981d",
   "metadata": {},
   "outputs": [],
   "source": [
    "## convert a value to iterable to a list\n",
    "string = \"Hello World\"\n",
    "list_str = list(string)\n",
    "type(list_str)"
   ]
  },
  {
   "cell_type": "code",
   "execution_count": 3,
   "id": "4f31b493-0812-46e9-9faa-f581b0eb5319",
   "metadata": {},
   "outputs": [
    {
     "data": {
      "text/plain": [
       "tuple"
      ]
     },
     "execution_count": 3,
     "metadata": {},
     "output_type": "execute_result"
    }
   ],
   "source": [
    "## convert a value to tuple data type\n",
    "list_num =[1,2,3,4,5]\n",
    "tuple_num = tuple(list_num)\n",
    "type(tuple_num)"
   ]
  },
  {
   "cell_type": "code",
   "execution_count": 2,
   "id": "d2eedc12-dd85-4aa7-8f04-38164e5294bc",
   "metadata": {},
   "outputs": [
    {
     "data": {
      "text/plain": [
       "set"
      ]
     },
     "execution_count": 2,
     "metadata": {},
     "output_type": "execute_result"
    }
   ],
   "source": [
    "## converrt a value to a set data type\n",
    "tuple_num1 = (1,2,3,4)\n",
    "set_num = set(tuple_num1)\n",
    "type(set_num)"
   ]
  },
  {
   "cell_type": "code",
   "execution_count": 3,
   "id": "b6812a1e-f830-43fe-9945-22aada855f34",
   "metadata": {},
   "outputs": [
    {
     "data": {
      "text/plain": [
       "dict"
      ]
     },
     "execution_count": 3,
     "metadata": {},
     "output_type": "execute_result"
    }
   ],
   "source": [
    "## convert a value to a dictionary data type\n",
    "list_num2 =[(\"a\" , 1),(\"b\" , 2),(\"c\" ,3)]\n",
    "dict_pair = dict(list_num2)\n",
    "type(dict_pair)"
   ]
  },
  {
   "cell_type": "code",
   "execution_count": 5,
   "id": "8ad03992-470d-40bf-923f-34062f0c4b99",
   "metadata": {},
   "outputs": [
    {
     "name": "stdout",
     "output_type": "stream",
     "text": [
      "[2, 3]\n"
     ]
    }
   ],
   "source": [
    "##Q5\"\n",
    "my_list = [1,2,3,4,5]\n",
    "sub_list = [2,3]\n",
    "print(sub_list)"
   ]
  },
  {
   "cell_type": "code",
   "execution_count": 6,
   "id": "e61f1ad2-e5d7-44c3-b5e9-839199abb6d8",
   "metadata": {},
   "outputs": [],
   "source": [
    "##Q5\n",
    "\n",
    "age = 25"
   ]
  },
  {
   "cell_type": "code",
   "execution_count": 8,
   "id": "e52dae97-c1fc-4156-a8f8-06ff7595d4d0",
   "metadata": {},
   "outputs": [
    {
     "data": {
      "text/plain": [
       "complex"
      ]
     },
     "execution_count": 8,
     "metadata": {},
     "output_type": "execute_result"
    }
   ],
   "source": [
    "##Q6\n",
    "complex_num = 5 + 6j\n",
    "type(complex_num)\n"
   ]
  },
  {
   "cell_type": "code",
   "execution_count": 9,
   "id": "82989f10-400d-4694-93fb-4ff73f9a9cb9",
   "metadata": {},
   "outputs": [
    {
     "data": {
      "text/plain": [
       "float"
      ]
     },
     "execution_count": 9,
     "metadata": {},
     "output_type": "execute_result"
    }
   ],
   "source": [
    "##Q7\n",
    "price = 9.99\n",
    "type(price)"
   ]
  },
  {
   "cell_type": "code",
   "execution_count": 10,
   "id": "3599bf04-ce88-4dd2-875f-973c52b2a9cd",
   "metadata": {},
   "outputs": [
    {
     "name": "stdout",
     "output_type": "stream",
     "text": [
      "shahnawaz\n"
     ]
    }
   ],
   "source": [
    "##Q8\n",
    "name = \"shahnawaz\"\n",
    "print(name)"
   ]
  },
  {
   "cell_type": "code",
   "execution_count": 9,
   "id": "c65e002d-552d-4506-9d9d-15685f50fd75",
   "metadata": {},
   "outputs": [
    {
     "name": "stdout",
     "output_type": "stream",
     "text": [
      "World\n"
     ]
    }
   ],
   "source": [
    "##Q9\n",
    "string = \"Hello World\"\n",
    "substring = string[6:]\n",
    "print(substring)"
   ]
  },
  {
   "cell_type": "code",
   "execution_count": 10,
   "id": "2c2c524c-39dd-4b65-92ed-da7ab97f00d6",
   "metadata": {},
   "outputs": [
    {
     "name": "stdout",
     "output_type": "stream",
     "text": [
      "True\n"
     ]
    }
   ],
   "source": [
    "##Q10\n",
    "is_name = bool(input())\n",
    "if is_name = true"
   ]
  },
  {
   "cell_type": "code",
   "execution_count": null,
   "id": "27de8c1a-d650-4e6a-9ab4-86de55c1841a",
   "metadata": {},
   "outputs": [],
   "source": []
  }
 ],
 "metadata": {
  "kernelspec": {
   "display_name": "Python 3 (ipykernel)",
   "language": "python",
   "name": "python3"
  },
  "language_info": {
   "codemirror_mode": {
    "name": "ipython",
    "version": 3
   },
   "file_extension": ".py",
   "mimetype": "text/x-python",
   "name": "python",
   "nbconvert_exporter": "python",
   "pygments_lexer": "ipython3",
   "version": "3.10.8"
  }
 },
 "nbformat": 4,
 "nbformat_minor": 5
}
