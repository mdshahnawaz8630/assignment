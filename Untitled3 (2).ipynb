{
 "cells": [
  {
   "cell_type": "markdown",
   "id": "5f654e0f-8d42-4bfb-bf51-aff47a7cf7be",
   "metadata": {},
   "source": [
    "Q1. List any five functions of the pandas library with execution."
   ]
  },
  {
   "cell_type": "code",
   "execution_count": 2,
   "id": "6f1014a1-e576-4a89-ba49-62ddceabed1b",
   "metadata": {},
   "outputs": [],
   "source": [
    "#importing panas labries\n",
    "import pandas as pd"
   ]
  },
  {
   "cell_type": "code",
   "execution_count": 3,
   "id": "17905085-d461-40d0-9cef-dae546298f6e",
   "metadata": {},
   "outputs": [
    {
     "name": "stdout",
     "output_type": "stream",
     "text": [
      "City\n",
      "London      6000.0\n",
      "New York    5000.0\n",
      "Paris       4500.0\n",
      "Sydney      5500.0\n",
      "Tokyo       4000.0\n",
      "Name: Salary, dtype: float64\n"
     ]
    }
   ],
   "source": [
    "# Create a DataFrame\n",
    "data = {'Name': ['John', 'Emma', 'Michael', 'Sophia', 'Daniel'],\n",
    "        'City': ['New York', 'London', 'Paris', 'Sydney', 'Tokyo'],\n",
    "        'Salary': [5000, 6000, 4500, 5500, 4000]}\n",
    "df = pd.DataFrame(data)\n",
    "\n",
    "# Group data by 'City' and calculate the average salary\n",
    "grouped_df = df.groupby('City')['Salary'].mean()\n",
    "\n",
    "# Display the grouped DataFrame\n",
    "print(grouped_df)\n"
   ]
  },
  {
   "cell_type": "code",
   "execution_count": 5,
   "id": "7e38fce9-0983-46e1-837e-6718f738f42e",
   "metadata": {},
   "outputs": [],
   "source": [
    "df1 = pd.read_csv(\"https://media.githubusercontent.com/media/datablist/sample-csv-files/main/files/organizations/organizations-100.csv\")"
   ]
  },
  {
   "cell_type": "code",
   "execution_count": 6,
   "id": "aa401ac2-dc32-4807-befd-396a1477234d",
   "metadata": {},
   "outputs": [
    {
     "data": {
      "text/html": [
       "<div>\n",
       "<style scoped>\n",
       "    .dataframe tbody tr th:only-of-type {\n",
       "        vertical-align: middle;\n",
       "    }\n",
       "\n",
       "    .dataframe tbody tr th {\n",
       "        vertical-align: top;\n",
       "    }\n",
       "\n",
       "    .dataframe thead th {\n",
       "        text-align: right;\n",
       "    }\n",
       "</style>\n",
       "<table border=\"1\" class=\"dataframe\">\n",
       "  <thead>\n",
       "    <tr style=\"text-align: right;\">\n",
       "      <th></th>\n",
       "      <th>Salary</th>\n",
       "    </tr>\n",
       "  </thead>\n",
       "  <tbody>\n",
       "    <tr>\n",
       "      <th>count</th>\n",
       "      <td>5.000000</td>\n",
       "    </tr>\n",
       "    <tr>\n",
       "      <th>mean</th>\n",
       "      <td>5000.000000</td>\n",
       "    </tr>\n",
       "    <tr>\n",
       "      <th>std</th>\n",
       "      <td>790.569415</td>\n",
       "    </tr>\n",
       "    <tr>\n",
       "      <th>min</th>\n",
       "      <td>4000.000000</td>\n",
       "    </tr>\n",
       "    <tr>\n",
       "      <th>25%</th>\n",
       "      <td>4500.000000</td>\n",
       "    </tr>\n",
       "    <tr>\n",
       "      <th>50%</th>\n",
       "      <td>5000.000000</td>\n",
       "    </tr>\n",
       "    <tr>\n",
       "      <th>75%</th>\n",
       "      <td>5500.000000</td>\n",
       "    </tr>\n",
       "    <tr>\n",
       "      <th>max</th>\n",
       "      <td>6000.000000</td>\n",
       "    </tr>\n",
       "  </tbody>\n",
       "</table>\n",
       "</div>"
      ],
      "text/plain": [
       "            Salary\n",
       "count     5.000000\n",
       "mean   5000.000000\n",
       "std     790.569415\n",
       "min    4000.000000\n",
       "25%    4500.000000\n",
       "50%    5000.000000\n",
       "75%    5500.000000\n",
       "max    6000.000000"
      ]
     },
     "execution_count": 6,
     "metadata": {},
     "output_type": "execute_result"
    }
   ],
   "source": [
    "df.describe()"
   ]
  },
  {
   "cell_type": "code",
   "execution_count": 7,
   "id": "beb4383c-3983-419f-a45e-41e9229aaa30",
   "metadata": {},
   "outputs": [
    {
     "data": {
      "text/html": [
       "<div>\n",
       "<style scoped>\n",
       "    .dataframe tbody tr th:only-of-type {\n",
       "        vertical-align: middle;\n",
       "    }\n",
       "\n",
       "    .dataframe tbody tr th {\n",
       "        vertical-align: top;\n",
       "    }\n",
       "\n",
       "    .dataframe thead th {\n",
       "        text-align: right;\n",
       "    }\n",
       "</style>\n",
       "<table border=\"1\" class=\"dataframe\">\n",
       "  <thead>\n",
       "    <tr style=\"text-align: right;\">\n",
       "      <th></th>\n",
       "      <th>Name</th>\n",
       "      <th>City</th>\n",
       "      <th>Salary</th>\n",
       "    </tr>\n",
       "  </thead>\n",
       "  <tbody>\n",
       "    <tr>\n",
       "      <th>0</th>\n",
       "      <td>John</td>\n",
       "      <td>New York</td>\n",
       "      <td>5000</td>\n",
       "    </tr>\n",
       "    <tr>\n",
       "      <th>1</th>\n",
       "      <td>Emma</td>\n",
       "      <td>London</td>\n",
       "      <td>6000</td>\n",
       "    </tr>\n",
       "    <tr>\n",
       "      <th>2</th>\n",
       "      <td>Michael</td>\n",
       "      <td>Paris</td>\n",
       "      <td>4500</td>\n",
       "    </tr>\n",
       "    <tr>\n",
       "      <th>3</th>\n",
       "      <td>Sophia</td>\n",
       "      <td>Sydney</td>\n",
       "      <td>5500</td>\n",
       "    </tr>\n",
       "    <tr>\n",
       "      <th>4</th>\n",
       "      <td>Daniel</td>\n",
       "      <td>Tokyo</td>\n",
       "      <td>4000</td>\n",
       "    </tr>\n",
       "  </tbody>\n",
       "</table>\n",
       "</div>"
      ],
      "text/plain": [
       "      Name      City  Salary\n",
       "0     John  New York    5000\n",
       "1     Emma    London    6000\n",
       "2  Michael     Paris    4500\n",
       "3   Sophia    Sydney    5500\n",
       "4   Daniel     Tokyo    4000"
      ]
     },
     "execution_count": 7,
     "metadata": {},
     "output_type": "execute_result"
    }
   ],
   "source": [
    "df.head()"
   ]
  },
  {
   "cell_type": "code",
   "execution_count": 8,
   "id": "c03c8379-c870-445a-9c33-80363157c8da",
   "metadata": {},
   "outputs": [
    {
     "data": {
      "text/html": [
       "<div>\n",
       "<style scoped>\n",
       "    .dataframe tbody tr th:only-of-type {\n",
       "        vertical-align: middle;\n",
       "    }\n",
       "\n",
       "    .dataframe tbody tr th {\n",
       "        vertical-align: top;\n",
       "    }\n",
       "\n",
       "    .dataframe thead th {\n",
       "        text-align: right;\n",
       "    }\n",
       "</style>\n",
       "<table border=\"1\" class=\"dataframe\">\n",
       "  <thead>\n",
       "    <tr style=\"text-align: right;\">\n",
       "      <th></th>\n",
       "      <th>Name</th>\n",
       "      <th>City</th>\n",
       "      <th>Salary</th>\n",
       "    </tr>\n",
       "  </thead>\n",
       "  <tbody>\n",
       "    <tr>\n",
       "      <th>0</th>\n",
       "      <td>John</td>\n",
       "      <td>New York</td>\n",
       "      <td>5000</td>\n",
       "    </tr>\n",
       "    <tr>\n",
       "      <th>1</th>\n",
       "      <td>Emma</td>\n",
       "      <td>London</td>\n",
       "      <td>6000</td>\n",
       "    </tr>\n",
       "    <tr>\n",
       "      <th>2</th>\n",
       "      <td>Michael</td>\n",
       "      <td>Paris</td>\n",
       "      <td>4500</td>\n",
       "    </tr>\n",
       "    <tr>\n",
       "      <th>3</th>\n",
       "      <td>Sophia</td>\n",
       "      <td>Sydney</td>\n",
       "      <td>5500</td>\n",
       "    </tr>\n",
       "    <tr>\n",
       "      <th>4</th>\n",
       "      <td>Daniel</td>\n",
       "      <td>Tokyo</td>\n",
       "      <td>4000</td>\n",
       "    </tr>\n",
       "  </tbody>\n",
       "</table>\n",
       "</div>"
      ],
      "text/plain": [
       "      Name      City  Salary\n",
       "0     John  New York    5000\n",
       "1     Emma    London    6000\n",
       "2  Michael     Paris    4500\n",
       "3   Sophia    Sydney    5500\n",
       "4   Daniel     Tokyo    4000"
      ]
     },
     "execution_count": 8,
     "metadata": {},
     "output_type": "execute_result"
    }
   ],
   "source": [
    "df.tail()"
   ]
  },
  {
   "cell_type": "code",
   "execution_count": 11,
   "id": "be316061-ec3a-45d4-b133-793403221e9f",
   "metadata": {},
   "outputs": [],
   "source": [
    "df.to_csv('new_data.csv',index = False)"
   ]
  },
  {
   "cell_type": "markdown",
   "id": "084d01d7-fe14-44d9-9289-94e60eaccd1c",
   "metadata": {},
   "source": [
    "Q2. Given a Pandas DataFrame df with columns 'A', 'B', and 'C', write a Python function to re-index the\n",
    "DataFrame with a new index that starts from 1 and increments by 2 for each row."
   ]
  },
  {
   "cell_type": "code",
   "execution_count": 13,
   "id": "bd14fee1-683b-4e3e-adde-027a80ac9095",
   "metadata": {},
   "outputs": [],
   "source": [
    "import pandas as pd\n",
    "\n",
    "def reindex_dataframe(df):\n",
    "    new_index = pd.RangeIndex(start=1, stop=2*len(df)+1, step=2)\n",
    "    df = df.reset_index(drop=True)\n",
    "    df.index = new_index\n",
    "    return df\n",
    "\n"
   ]
  },
  {
   "cell_type": "markdown",
   "id": "c4699796-84c8-4a15-a2c0-a67f8abd2901",
   "metadata": {},
   "source": [
    "Q3. You have a Pandas DataFrame df with a column named 'Values'. Write a Python function that\n",
    "iterates over the DataFrame and calculates the sum of the first three values in the 'Values' column. The\n",
    "function should print the sum to the console.\n",
    "For example, if the 'Values' column of df contains the values [10, 20, 30, 40, 50], your function should\n",
    "calculate and print the sum of the first three values, which is 60."
   ]
  },
  {
   "cell_type": "code",
   "execution_count": 30,
   "id": "1807700b-d981-4b20-9f3d-0ab5e77b2902",
   "metadata": {},
   "outputs": [],
   "source": [
    "#creting dataframe \n",
    "df = pd.DataFrame({'values':[10, 20, 30, 40, 50]})"
   ]
  },
  {
   "cell_type": "code",
   "execution_count": 42,
   "id": "33b11a16-117e-4821-8dae-09843f03c920",
   "metadata": {},
   "outputs": [],
   "source": [
    "def sum_three_values(df):\n",
    "    total = df.iloc[0:3]['values'].sum()\n",
    "    return total"
   ]
  },
  {
   "cell_type": "code",
   "execution_count": 43,
   "id": "b935110d-44a4-45f9-b788-b420598ebbf7",
   "metadata": {},
   "outputs": [
    {
     "data": {
      "text/plain": [
       "60"
      ]
     },
     "execution_count": 43,
     "metadata": {},
     "output_type": "execute_result"
    }
   ],
   "source": [
    "sum_three_values(df)"
   ]
  },
  {
   "cell_type": "markdown",
   "id": "5a41c93d-9b72-4500-892e-094f20210a1b",
   "metadata": {},
   "source": [
    "Q4. Given a Pandas DataFrame df with a column 'Text', write a Python function to create a new column\n",
    "'Word_Count' that contains the number of words in each row of the 'Text' column."
   ]
  },
  {
   "cell_type": "code",
   "execution_count": 45,
   "id": "5f86cabe-f0c6-4cc1-a4c0-f53f754d83bf",
   "metadata": {},
   "outputs": [],
   "source": [
    "#create a function word coount\n",
    "def word_count(df):\n",
    "    df['Word_Count'] = df['Text'].apply(lambda x: len(str(x).split(\" \")))\n",
    "    return df                                    \n",
    "                                        "
   ]
  },
  {
   "cell_type": "code",
   "execution_count": 46,
   "id": "712fe1f9-31e1-44b8-a4b5-66d25407c6ae",
   "metadata": {},
   "outputs": [],
   "source": [
    "#creating a dataframe using function\n",
    "df = pd.DataFrame({'Text':['This is a test', 'Another test', 'Yet another test']})"
   ]
  },
  {
   "cell_type": "code",
   "execution_count": 47,
   "id": "4845e6e7-6c01-4bc3-a22f-ceb29eec23dc",
   "metadata": {},
   "outputs": [
    {
     "data": {
      "text/html": [
       "<div>\n",
       "<style scoped>\n",
       "    .dataframe tbody tr th:only-of-type {\n",
       "        vertical-align: middle;\n",
       "    }\n",
       "\n",
       "    .dataframe tbody tr th {\n",
       "        vertical-align: top;\n",
       "    }\n",
       "\n",
       "    .dataframe thead th {\n",
       "        text-align: right;\n",
       "    }\n",
       "</style>\n",
       "<table border=\"1\" class=\"dataframe\">\n",
       "  <thead>\n",
       "    <tr style=\"text-align: right;\">\n",
       "      <th></th>\n",
       "      <th>Text</th>\n",
       "      <th>Word_Count</th>\n",
       "    </tr>\n",
       "  </thead>\n",
       "  <tbody>\n",
       "    <tr>\n",
       "      <th>0</th>\n",
       "      <td>This is a test</td>\n",
       "      <td>4</td>\n",
       "    </tr>\n",
       "    <tr>\n",
       "      <th>1</th>\n",
       "      <td>Another test</td>\n",
       "      <td>2</td>\n",
       "    </tr>\n",
       "    <tr>\n",
       "      <th>2</th>\n",
       "      <td>Yet another test</td>\n",
       "      <td>3</td>\n",
       "    </tr>\n",
       "  </tbody>\n",
       "</table>\n",
       "</div>"
      ],
      "text/plain": [
       "               Text  Word_Count\n",
       "0    This is a test           4\n",
       "1      Another test           2\n",
       "2  Yet another test           3"
      ]
     },
     "execution_count": 47,
     "metadata": {},
     "output_type": "execute_result"
    }
   ],
   "source": [
    "#call a function\n",
    "word_count(df)"
   ]
  },
  {
   "cell_type": "markdown",
   "id": "81da619b-898f-498f-aeb1-9f8282782c35",
   "metadata": {},
   "source": [
    "Q5. How are DataFrame.size() and DataFrame.shape() different?"
   ]
  },
  {
   "cell_type": "markdown",
   "id": "db05e996-014c-490e-a416-7d3dee95540c",
   "metadata": {},
   "source": [
    "The size() method returns the total number of elements in the DataFrame. It is equivalent to the product of the number of rows and columns in the DataFrame.\n",
    "\n",
    "On the other hand, the shape() method returns a tuple representing the dimensionality of the DataFrame. The first element of the tuple is the number of rows and the second element is the number of columns."
   ]
  },
  {
   "cell_type": "markdown",
   "id": "e440fef3-c0f6-4e6b-b1be-4243e0668ca3",
   "metadata": {},
   "source": [
    "For example, if you have a DataFrame with 10 rows and 5 columns, calling size() will return 50 (10 * 5), while calling shape() will return (10, 5)."
   ]
  },
  {
   "cell_type": "markdown",
   "id": "25bb9096-6aba-4a13-bb42-beeedce81adb",
   "metadata": {},
   "source": [
    "Q6. Which function of pandas do we use to read an excel file?"
   ]
  },
  {
   "cell_type": "markdown",
   "id": "c60ce82f-455c-40a7-b91c-ed0d346b3f63",
   "metadata": {},
   "source": [
    "pd.read_excel"
   ]
  },
  {
   "cell_type": "markdown",
   "id": "3b60364f-9584-4dda-bc6c-e81ad4ee7328",
   "metadata": {},
   "source": [
    "Q7. You have a Pandas DataFrame df that contains a column named 'Email' that contains email\n",
    "addresses in the format 'username@domain.com'. Write a Python function that creates a new column\n",
    "'Username' in df that contains only the username part of each email address.\n",
    "The username is the part of the email address that appears before the '@' symbol. For example, if the\n",
    "email address is 'john.doe@example.com', the 'Username' column should contain 'john.doe'. Your\n",
    "function should extract the username from each email address and store it in the new 'Username'\n",
    "column."
   ]
  },
  {
   "cell_type": "code",
   "execution_count": 54,
   "id": "72e66cad-2770-4e3c-97cb-541a40b6de50",
   "metadata": {},
   "outputs": [],
   "source": [
    "#creating a dataframe\n",
    "df = pd.DataFrame({'Email':['john.doe@example.com','john.doe@example.com']})"
   ]
  },
  {
   "cell_type": "code",
   "execution_count": 59,
   "id": "ec041191-dfb3-4096-80d1-9a1400aadff3",
   "metadata": {},
   "outputs": [],
   "source": [
    "#creating a funcion extract username from email\n",
    "def exract_email(x):\n",
    "    return x.split('@')[0]"
   ]
  },
  {
   "cell_type": "code",
   "execution_count": 63,
   "id": "7062301a-4e59-4ed3-9b77-556188650168",
   "metadata": {},
   "outputs": [],
   "source": [
    "#test the function\n",
    "df['username'] = df['Email'].apply(exract_email)"
   ]
  },
  {
   "cell_type": "code",
   "execution_count": 64,
   "id": "08c20d27-3c46-4788-bea4-90442e3ced05",
   "metadata": {},
   "outputs": [
    {
     "data": {
      "text/html": [
       "<div>\n",
       "<style scoped>\n",
       "    .dataframe tbody tr th:only-of-type {\n",
       "        vertical-align: middle;\n",
       "    }\n",
       "\n",
       "    .dataframe tbody tr th {\n",
       "        vertical-align: top;\n",
       "    }\n",
       "\n",
       "    .dataframe thead th {\n",
       "        text-align: right;\n",
       "    }\n",
       "</style>\n",
       "<table border=\"1\" class=\"dataframe\">\n",
       "  <thead>\n",
       "    <tr style=\"text-align: right;\">\n",
       "      <th></th>\n",
       "      <th>Email</th>\n",
       "      <th>username</th>\n",
       "    </tr>\n",
       "  </thead>\n",
       "  <tbody>\n",
       "    <tr>\n",
       "      <th>0</th>\n",
       "      <td>john.doe@example.com</td>\n",
       "      <td>john.doe</td>\n",
       "    </tr>\n",
       "    <tr>\n",
       "      <th>1</th>\n",
       "      <td>john.doe@example.com</td>\n",
       "      <td>john.doe</td>\n",
       "    </tr>\n",
       "  </tbody>\n",
       "</table>\n",
       "</div>"
      ],
      "text/plain": [
       "                  Email  username\n",
       "0  john.doe@example.com  john.doe\n",
       "1  john.doe@example.com  john.doe"
      ]
     },
     "execution_count": 64,
     "metadata": {},
     "output_type": "execute_result"
    }
   ],
   "source": [
    "df"
   ]
  },
  {
   "cell_type": "markdown",
   "id": "91771961-e323-4b67-92e3-8d570aef9353",
   "metadata": {},
   "source": [
    "Q8. You have a Pandas DataFrame df with columns 'A', 'B', and 'C'. Write a Python function that selects\n",
    "all rows where the value in column 'A' is greater than 5 and the value in column 'B' is less than 10. The\n",
    "function should return a new DataFrame that contains only the selected rows."
   ]
  },
  {
   "cell_type": "code",
   "execution_count": 65,
   "id": "ba4f5a17-0c35-4c11-9018-2935ad9b14f1",
   "metadata": {},
   "outputs": [],
   "source": [
    "#creating a dataframe\n",
    "df = pd.DataFrame({'A':[1,2,4,8,9],\n",
    "                   'B':[2,6,7,9,8],\n",
    "                   'C':[7,8,9,5,3]})"
   ]
  },
  {
   "cell_type": "code",
   "execution_count": null,
   "id": "f2fc1d8e-7cc2-478e-bc34-0186649d044c",
   "metadata": {},
   "outputs": [],
   "source": [
    "selected_rows"
   ]
  }
 ],
 "metadata": {
  "kernelspec": {
   "display_name": "Python 3 (ipykernel)",
   "language": "python",
   "name": "python3"
  },
  "language_info": {
   "codemirror_mode": {
    "name": "ipython",
    "version": 3
   },
   "file_extension": ".py",
   "mimetype": "text/x-python",
   "name": "python",
   "nbconvert_exporter": "python",
   "pygments_lexer": "ipython3",
   "version": "3.10.8"
  }
 },
 "nbformat": 4,
 "nbformat_minor": 5
}
