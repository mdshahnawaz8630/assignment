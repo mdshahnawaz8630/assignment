{
 "cells": [
  {
   "cell_type": "markdown",
   "id": "bfc85a76-9593-434b-a089-9df4f291153e",
   "metadata": {},
   "source": [
    "Q1. What is an exception in python ? write different between exception and syntax erro?"
   ]
  },
  {
   "cell_type": "markdown",
   "id": "6a1b7d31-b245-47b8-aa7e-55da7e1de930",
   "metadata": {},
   "source": [
    "An exception is an error that happen during the excution of a program whenever there is an error python generator an exception that could be handled it basically prevent the program from getting crashed"
   ]
  },
  {
   "cell_type": "markdown",
   "id": "28fe84eb-b5a9-4d8a-a738-6bedaa4fad7e",
   "metadata": {},
   "source": [
    "Q2. What happens when an exception is not handled? Explain with an example"
   ]
  },
  {
   "cell_type": "markdown",
   "id": "99785d81-f8f6-44f2-bee4-613f50763bb4",
   "metadata": {},
   "source": [
    "if exception is not handled they will terminate the program and produce a traceback"
   ]
  },
  {
   "cell_type": "code",
   "execution_count": 8,
   "id": "fcd18254-c829-4d59-9d37-107885e65005",
   "metadata": {},
   "outputs": [
    {
     "ename": "SyntaxError",
     "evalue": "invalid syntax (649957799.py, line 5)",
     "output_type": "error",
     "traceback": [
      "\u001b[0;36m  Cell \u001b[0;32mIn[8], line 5\u001b[0;36m\u001b[0m\n\u001b[0;31m    data = f.read(10):\u001b[0m\n\u001b[0m                     ^\u001b[0m\n\u001b[0;31mSyntaxError\u001b[0m\u001b[0;31m:\u001b[0m invalid syntax\n"
     ]
    }
   ],
   "source": [
    "#For example\n",
    "#without exception write pogrom \n",
    "try:\n",
    "    with open(\"test.txt\",\"r\") as f:\n",
    "        data = f.read(10):"
   ]
  },
  {
   "cell_type": "code",
   "execution_count": 9,
   "id": "3c39d5c2-e7ec-475d-9b06-7a79a7ad4323",
   "metadata": {},
   "outputs": [
    {
     "name": "stdout",
     "output_type": "stream",
     "text": [
      "[Errno 2] No such file or directory: 'test.txt'\n"
     ]
    }
   ],
   "source": [
    "#with exception use\n",
    "try:\n",
    "    with open (\"test.txt\",\"r\") as f:\n",
    "        data = f.read()\n",
    "except FileNotFoundError as e:\n",
    "    print(e)"
   ]
  },
  {
   "cell_type": "markdown",
   "id": "64363c8d-80b2-4606-96f9-fdaca1303dae",
   "metadata": {},
   "source": [
    "Q3. Which Python statements are used to catch and handle exceptions? Explain with an example"
   ]
  },
  {
   "cell_type": "markdown",
   "id": "9950ea2e-1ac8-4ab1-a01f-f7490864953e",
   "metadata": {},
   "source": [
    "The try & except block in python is used to catch & handle exception "
   ]
  },
  {
   "cell_type": "code",
   "execution_count": 16,
   "id": "70ae611e-566c-4520-b589-02abd80223e2",
   "metadata": {},
   "outputs": [],
   "source": [
    "#for example\n",
    "    \n",
    "def divide(a,b):\n",
    "        try:\n",
    "            result = a/b\n",
    "            print(\"The result of the division is : \",result)\n",
    "        \n",
    "        except ZeroDivisionError as e :\n",
    "            \n",
    "            print(e)\n",
    "    "
   ]
  },
  {
   "cell_type": "code",
   "execution_count": 17,
   "id": "f9b41e21-e56a-4070-9761-5f77ec5f46a0",
   "metadata": {},
   "outputs": [
    {
     "name": "stdout",
     "output_type": "stream",
     "text": [
      "division by zero\n"
     ]
    }
   ],
   "source": [
    "#test the function\n",
    "num = divide(1,0)"
   ]
  },
  {
   "cell_type": "markdown",
   "id": "478fce0c-d524-4201-acab-6ea8e28ea844",
   "metadata": {},
   "source": [
    "Q4. Explain with an example :\n",
    "try\n",
    "and else\n",
    "finall\n",
    "raise"
   ]
  },
  {
   "cell_type": "code",
   "execution_count": 21,
   "id": "9792eee8-f23b-4512-a942-3f7d385bf275",
   "metadata": {},
   "outputs": [
    {
     "name": "stdout",
     "output_type": "stream",
     "text": [
      "An exception occured\n"
     ]
    }
   ],
   "source": [
    "#try = The try block lets you test a block of code for error\n",
    "#for example\n",
    "try:\n",
    "    print(x)\n",
    "except:\n",
    "    print(\"An exception occured\")"
   ]
  },
  {
   "cell_type": "markdown",
   "id": "83dd886d-4ec1-4ebf-8a6d-6726bda06c5b",
   "metadata": {},
   "source": [
    "Except = The except block lets you handle the error"
   ]
  },
  {
   "cell_type": "code",
   "execution_count": 22,
   "id": "6614c17c-8a51-4a3c-a958-e18e8d173b73",
   "metadata": {},
   "outputs": [
    {
     "name": "stdout",
     "output_type": "stream",
     "text": [
      "x variable is not defined name 'x' is not defined\n"
     ]
    }
   ],
   "source": [
    "#for example\n",
    "try:\n",
    "    print(x)\n",
    "except NameError as e:\n",
    "    print(\"x variable is not defined\",e)\n"
   ]
  },
  {
   "cell_type": "markdown",
   "id": "f2420203-cc93-46b0-86ad-0c1592c9aad7",
   "metadata": {},
   "source": [
    "else = The else block lets you excute code when there is no error"
   ]
  },
  {
   "cell_type": "code",
   "execution_count": 23,
   "id": "df314acf-666b-4fe7-b21b-a23706beefdc",
   "metadata": {},
   "outputs": [
    {
     "name": "stdout",
     "output_type": "stream",
     "text": [
      "hello\n",
      "Nothing went wrong\n"
     ]
    }
   ],
   "source": [
    "#for example\n",
    "try:\n",
    "    print(\"hello\")\n",
    "except:\n",
    "    print(\"something went wrong\")\n",
    "else:\n",
    "    print(\"Nothing went wrong\")"
   ]
  },
  {
   "cell_type": "markdown",
   "id": "3b85e13e-0310-4bab-87d6-527a206a0f54",
   "metadata": {},
   "source": [
    "finally = The finally blcok lets you excute code regardless of the result of the try & exception blocks"
   ]
  },
  {
   "cell_type": "code",
   "execution_count": 3,
   "id": "da3053a8-92fd-4c4d-a3d8-d3c282f390b1",
   "metadata": {},
   "outputs": [
    {
     "name": "stdout",
     "output_type": "stream",
     "text": [
      "x varible is not defined : \n",
      "always excutes finally block \n"
     ]
    }
   ],
   "source": [
    "#for example\n",
    "try:\n",
    "    print(x)\n",
    "except NameError as e:\n",
    "    print(\"x varible is not defined : \")\n",
    "finally:\n",
    "    print(\"always excutes finally block \")"
   ]
  },
  {
   "cell_type": "markdown",
   "id": "64765e8f-7808-4833-8f93-c964b5e98ff0",
   "metadata": {},
   "source": [
    "Q5. What are Custom Exceptions in python? Why do we need Custom Exceptions? Explain with an example"
   ]
  },
  {
   "cell_type": "markdown",
   "id": "a2140eb1-9123-4bc9-8727-6ec5054e40fc",
   "metadata": {},
   "source": [
    "Custon expection : extend the core functionally of great expectations for a specific purpose or business nedd."
   ]
  },
  {
   "cell_type": "markdown",
   "id": "500ce3aa-2f8d-4cff-a31e-9d7aa6c67bcf",
   "metadata": {},
   "source": [
    "why is need : custom exceptions will add information about project related problems"
   ]
  },
  {
   "cell_type": "code",
   "execution_count": 1,
   "id": "3c73e375-6273-47fd-90e5-0ad20fadcfa0",
   "metadata": {},
   "outputs": [
    {
     "ename": "Exception",
     "evalue": "sorry, no numbers below zero",
     "output_type": "error",
     "traceback": [
      "\u001b[0;31m---------------------------------------------------------------------------\u001b[0m",
      "\u001b[0;31mException\u001b[0m                                 Traceback (most recent call last)",
      "Cell \u001b[0;32mIn[1], line 4\u001b[0m\n\u001b[1;32m      2\u001b[0m x \u001b[38;5;241m=\u001b[39m \u001b[38;5;241m-\u001b[39m\u001b[38;5;241m1\u001b[39m\n\u001b[1;32m      3\u001b[0m \u001b[38;5;28;01mif\u001b[39;00m x \u001b[38;5;241m<\u001b[39m \u001b[38;5;241m0\u001b[39m:\n\u001b[0;32m----> 4\u001b[0m     \u001b[38;5;28;01mraise\u001b[39;00m \u001b[38;5;167;01mException\u001b[39;00m(\u001b[38;5;124m\"\u001b[39m\u001b[38;5;124msorry, no numbers below zero\u001b[39m\u001b[38;5;124m\"\u001b[39m)\n",
      "\u001b[0;31mException\u001b[0m: sorry, no numbers below zero"
     ]
    }
   ],
   "source": [
    "#for example\n",
    "x = -1\n",
    "if x < 0:\n",
    "    raise Exception(\"sorry, no numbers below zero\")"
   ]
  },
  {
   "cell_type": "code",
   "execution_count": 4,
   "id": "30163e35-ebd6-43a0-9e5a-6aac6d7ec920",
   "metadata": {},
   "outputs": [
    {
     "ename": "TypeError",
     "evalue": "Only integers are allowed",
     "output_type": "error",
     "traceback": [
      "\u001b[0;31m---------------------------------------------------------------------------\u001b[0m",
      "\u001b[0;31mTypeError\u001b[0m                                 Traceback (most recent call last)",
      "Cell \u001b[0;32mIn[4], line 3\u001b[0m\n\u001b[1;32m      1\u001b[0m x \u001b[38;5;241m=\u001b[39m \u001b[38;5;124m'\u001b[39m\u001b[38;5;124mhello\u001b[39m\u001b[38;5;124m'\u001b[39m\n\u001b[1;32m      2\u001b[0m \u001b[38;5;28;01mif\u001b[39;00m \u001b[38;5;129;01mnot\u001b[39;00m \u001b[38;5;28mtype\u001b[39m(x) \u001b[38;5;129;01mis\u001b[39;00m \u001b[38;5;28mint\u001b[39m:\n\u001b[0;32m----> 3\u001b[0m     \u001b[38;5;28;01mraise\u001b[39;00m \u001b[38;5;167;01mTypeError\u001b[39;00m(\u001b[38;5;124m\"\u001b[39m\u001b[38;5;124mOnly integers are allowed\u001b[39m\u001b[38;5;124m\"\u001b[39m)\n",
      "\u001b[0;31mTypeError\u001b[0m: Only integers are allowed"
     ]
    }
   ],
   "source": [
    "x = 'hello'\n",
    "if not type(x) is int:\n",
    "    raise TypeError(\"Only integers are allowed\")"
   ]
  },
  {
   "cell_type": "code",
   "execution_count": 7,
   "id": "7418fb28-df87-456c-bcf4-248ba5f5f81b",
   "metadata": {},
   "outputs": [
    {
     "name": "stdin",
     "output_type": "stream",
     "text": [
      "Enter number between 5 to 10 1\n"
     ]
    },
    {
     "name": "stdout",
     "output_type": "stream",
     "text": [
      "This number between 5 to 10\n"
     ]
    },
    {
     "ename": "TypeError",
     "evalue": "this is not between number given user",
     "output_type": "error",
     "traceback": [
      "\u001b[0;31m---------------------------------------------------------------------------\u001b[0m",
      "\u001b[0;31mTypeError\u001b[0m                                 Traceback (most recent call last)",
      "Cell \u001b[0;32mIn[7], line 4\u001b[0m\n\u001b[1;32m      2\u001b[0m \u001b[38;5;28;01mif\u001b[39;00m n\u001b[38;5;241m>\u001b[39m\u001b[38;5;241m5\u001b[39m \u001b[38;5;129;01mor\u001b[39;00m n\u001b[38;5;241m<\u001b[39m\u001b[38;5;241m10\u001b[39m:\n\u001b[1;32m      3\u001b[0m     \u001b[38;5;28mprint\u001b[39m(\u001b[38;5;124m\"\u001b[39m\u001b[38;5;124mThis number between 5 to 10\u001b[39m\u001b[38;5;124m\"\u001b[39m)\n\u001b[0;32m----> 4\u001b[0m     \u001b[38;5;28;01mraise\u001b[39;00m \u001b[38;5;167;01mTypeError\u001b[39;00m(\u001b[38;5;124m\"\u001b[39m\u001b[38;5;124mthis is not between number given user\u001b[39m\u001b[38;5;124m\"\u001b[39m)\n",
      "\u001b[0;31mTypeError\u001b[0m: this is not between number given user"
     ]
    }
   ],
   "source": [
    "n = int(input(\"Enter number between 5 to 10\"))\n",
    "if n>5 or n<10:\n",
    "    print(\"This number between 5 to 10\")\n",
    "    raise TypeError(\"this is not between number given user\")"
   ]
  },
  {
   "cell_type": "markdown",
   "id": "ce8a3a25-fee5-4318-8dca-164d6618fe83",
   "metadata": {},
   "source": [
    "Q6. Create custom exception class. Use this class to handle an exception."
   ]
  },
  {
   "cell_type": "code",
   "execution_count": 8,
   "id": "db98cb66-012a-4364-a7f0-738588e60afa",
   "metadata": {},
   "outputs": [],
   "source": [
    "class InsufficientBalanceError(Exception):\n",
    "    def __init__(self,account_number,required_number):\n",
    "        self.account_number = account_number\n",
    "        self.required_number = balance\n",
    "        \n",
    "    def withdrwal(account_number,amount):\n",
    "        if balance > amount:\n",
    "            raise InsufficientBalanceError(account_number = 123456 , balance = amount)\n",
    "        else:\n",
    "            print(\"withdraw Successfully\")"
   ]
  },
  {
   "cell_type": "code",
   "execution_count": 9,
   "id": "c7ed4eb7-2db6-42ca-9ded-c677698acd51",
   "metadata": {},
   "outputs": [],
   "source": [
    "balance = 100\n",
    "withdraw_amount = 200\n"
   ]
  },
  {
   "cell_type": "code",
   "execution_count": 13,
   "id": "acad3111-c048-4ed5-9b52-f8155889e665",
   "metadata": {},
   "outputs": [
    {
     "ename": "NameError",
     "evalue": "name 'withdrwal' is not defined",
     "output_type": "error",
     "traceback": [
      "\u001b[0;31m---------------------------------------------------------------------------\u001b[0m",
      "\u001b[0;31mNameError\u001b[0m                                 Traceback (most recent call last)",
      "Cell \u001b[0;32mIn[13], line 2\u001b[0m\n\u001b[1;32m      1\u001b[0m \u001b[38;5;28;01mtry\u001b[39;00m:\n\u001b[0;32m----> 2\u001b[0m      \u001b[43mwithdrwal\u001b[49m(account_number,withdraw_amount)\n\u001b[1;32m      3\u001b[0m \u001b[38;5;28;01mexcept\u001b[39;00m InsufficientBalanceError \u001b[38;5;28;01mas\u001b[39;00m e:\n\u001b[1;32m      4\u001b[0m     \u001b[38;5;28mprint\u001b[39m(\u001b[38;5;28mstr\u001b[39m(e))\n",
      "\u001b[0;31mNameError\u001b[0m: name 'withdrwal' is not defined"
     ]
    }
   ],
   "source": [
    "try:\n",
    "     withdrwal(account_number,withdraw_amount)\n",
    "except InsufficientBalanceError as e:\n",
    "    print(str(e))\n",
    "  #which mistake sir give me sir  "
   ]
  },
  {
   "cell_type": "code",
   "execution_count": 29,
   "id": "316f3867-4666-4adb-9236-33bb90570bed",
   "metadata": {},
   "outputs": [],
   "source": [
    "#for example \n",
    "class Validateage(Exception):\n",
    "    \n",
    "    def __init__(self,msg):\n",
    "        self.msg = msg\n",
    "        \n",
    "    def Validateage(age):\n",
    "        if age < 0:\n",
    "            raise Validateage(\"Enter age is negative\")\n",
    "            \n",
    "        elif age > 200:\n",
    "            raise Validateage(\"Enter age is very very high\")\n",
    "            \n",
    "        else:\n",
    "            print(\"Age is valid\")\n",
    "    "
   ]
  },
  {
   "cell_type": "code",
   "execution_count": 30,
   "id": "686cfc38-e518-459a-b96d-c9391872611d",
   "metadata": {},
   "outputs": [
    {
     "name": "stdin",
     "output_type": "stream",
     "text": [
      "Enter your age  -99\n"
     ]
    }
   ],
   "source": [
    "try:\n",
    "    age = int(input(\"Enter your age \"))\n",
    "    Validatege(age)\n",
    "except Validateage as e:\n",
    "    print(e)"
   ]
  },
  {
   "cell_type": "code",
   "execution_count": null,
   "id": "ddddc7cd-6446-42f4-9265-8b42c95c6427",
   "metadata": {},
   "outputs": [],
   "source": []
  }
 ],
 "metadata": {
  "kernelspec": {
   "display_name": "Python 3 (ipykernel)",
   "language": "python",
   "name": "python3"
  },
  "language_info": {
   "codemirror_mode": {
    "name": "ipython",
    "version": 3
   },
   "file_extension": ".py",
   "mimetype": "text/x-python",
   "name": "python",
   "nbconvert_exporter": "python",
   "pygments_lexer": "ipython3",
   "version": "3.10.8"
  }
 },
 "nbformat": 4,
 "nbformat_minor": 5
}
