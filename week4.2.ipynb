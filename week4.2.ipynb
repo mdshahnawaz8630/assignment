{
 "cells": [
  {
   "cell_type": "markdown",
   "id": "c4b64609-2d3d-42b4-9398-815f4ac66ba3",
   "metadata": {},
   "source": [
    "Q1. What is Abstraction in OOps? Explain with an example."
   ]
  },
  {
   "cell_type": "markdown",
   "id": "d4b47d73-d1fd-43cf-8b99-254e86d9337b",
   "metadata": {},
   "source": [
    "abstraction is a process of hiding the implementain details from the user only highlighted set of service provided to the user"
   ]
  },
  {
   "cell_type": "code",
   "execution_count": 6,
   "id": "eb71327c-9cbe-46dd-8954-827dbc83a0f2",
   "metadata": {},
   "outputs": [
    {
     "name": "stdout",
     "output_type": "stream",
     "text": [
      "We are inside test_class task\n",
      "Passed value:  100\n",
      "We are inside example_class task\n",
      "Passed value:  200\n",
      "test_obj is instance of Absclass?  True\n",
      "example_obj is instance of Absclass?  True\n"
     ]
    }
   ],
   "source": [
    "\n",
    "from abc import ABC, abstractmethod\n",
    "class Absclass(ABC):\n",
    "    def print(self,x):\n",
    "        print(\"Passed value: \", x)\n",
    "    @abstractmethod\n",
    "    def task(self):\n",
    "        print(\"We are inside Absclass task\")\n",
    " \n",
    "class test_class(Absclass):\n",
    "    def task(self):\n",
    "        print(\"We are inside test_class task\")\n",
    " \n",
    "class example_class(Absclass):\n",
    "    def task(self):\n",
    "        print(\"We are inside example_class task\")\n",
    " \n",
    "  #object of test_class created\n",
    "test_obj = test_class()\n",
    "test_obj.task()\n",
    "test_obj.print(100)\n",
    " \n",
    "#object of example_class created\n",
    "example_obj = example_class()\n",
    "example_obj.task()\n",
    "example_obj.print(200)\n",
    " \n",
    "print(\"test_obj is instance of Absclass? \", isinstance(test_obj, Absclass))\n",
    "print(\"example_obj is instance of Absclass? \", isinstance(example_obj, Absclass))\n"
   ]
  },
  {
   "cell_type": "markdown",
   "id": "e13cfb7c-0519-4b4b-b186-4007b9ad9bc8",
   "metadata": {},
   "source": [
    "Q2. Differentiate between Abstraction and Encapsulation. Explain with an example."
   ]
  },
  {
   "cell_type": "markdown",
   "id": "0b1ddfe2-e1a9-4909-9b65-710a158178a4",
   "metadata": {},
   "source": [
    "Encapsulation means that object's internal state (data) can be modified only by its public methods (public interface): class Encapsulated { private int data; public int getData () { return data; } public void setData (int d) { data = d; } } Abstraction means that you can abstract from concrete implementations,"
   ]
  },
  {
   "cell_type": "code",
   "execution_count": 2,
   "id": "8c05db18-06f0-4fb0-8b94-8b932f67f0ec",
   "metadata": {},
   "outputs": [],
   "source": [
    "#for example \n",
    "# abstract\n",
    "\n",
    "import abc\n",
    "\n",
    "class car:\n",
    "    def __init__(self,name_of_engine,fuel):\n",
    "        self.name_of_engine = name_of_engine\n",
    "        self.fule = fuel\n",
    "        \n",
    "    @abc.abstractclassmethod\n",
    "    def start(self):\n",
    "        pass\n",
    "    \n",
    "    @abc.abstractclassmethod\n",
    "    def stop(self):\n",
    "        pass\n",
    "    "
   ]
  },
  {
   "cell_type": "code",
   "execution_count": 11,
   "id": "4d073189-c0fc-47a9-9862-64685cfd55ea",
   "metadata": {},
   "outputs": [],
   "source": [
    "#encapsulation\n",
    "\n",
    "\n",
    "class Car:\n",
    "    def __init__(self):\n",
    "        self.engine = Engine()\n",
    "        self.fuel = Fuel()\n",
    "        # Other internal components\n",
    "\n",
    "    def start_engine(self):\n",
    "        # Implementation to start the car's engine\n",
    "        pass\n",
    "\n",
    "    def accelerate(self):\n",
    "        # Implementation to increase the car's speed\n",
    "        pass\n",
    "\n",
    "    def stop_engine(self):\n",
    "        # Implementation to stop the car's engine\n",
    "        pass\n",
    "\n",
    "    # Other public methods and properties\n",
    "\n",
    "class Engine:\n",
    "    pass\n",
    "    # Engine class implementation details\n",
    "\n",
    "class Fuel:\n",
    "    pass\n",
    "    # Fuel class implementation details\n"
   ]
  },
  {
   "cell_type": "markdown",
   "id": "4f7358cf-f826-4a3f-bfe0-40ec8be00162",
   "metadata": {},
   "source": [
    "Q3. What is abc module in python? Why is it used?"
   ]
  },
  {
   "cell_type": "markdown",
   "id": "589f334d-274b-471d-956b-2d7e582f0e1f",
   "metadata": {},
   "source": [
    "The main goal of the abstract base class is to provide a standardized way to test whether an object adheres to a given specification. It can also prevent any attempt to instantiate a subclass that doesn’t override a particular method in the superclass."
   ]
  },
  {
   "cell_type": "markdown",
   "id": "42f4563b-e63b-46e1-8023-d232d13e9d95",
   "metadata": {},
   "source": [
    "Q4. How can we achieve data abstraction?"
   ]
  },
  {
   "cell_type": "markdown",
   "id": "64fa348d-1b42-4c94-bca7-68743c5983e6",
   "metadata": {},
   "source": [
    "Data Abstraction in Python can be achieved through creating abstract classes and inheriting them later."
   ]
  },
  {
   "cell_type": "markdown",
   "id": "abc041e8-4f08-4b74-bc9d-71b57419bc38",
   "metadata": {},
   "source": [
    "Q5. Can we create an instance of an abstract class? Explain your answer."
   ]
  },
  {
   "cell_type": "code",
   "execution_count": null,
   "id": "8716a1cf-7172-40c2-87e3-83ee564bc0ba",
   "metadata": {},
   "outputs": [],
   "source": []
  }
 ],
 "metadata": {
  "kernelspec": {
   "display_name": "Python 3 (ipykernel)",
   "language": "python",
   "name": "python3"
  },
  "language_info": {
   "codemirror_mode": {
    "name": "ipython",
    "version": 3
   },
   "file_extension": ".py",
   "mimetype": "text/x-python",
   "name": "python",
   "nbconvert_exporter": "python",
   "pygments_lexer": "ipython3",
   "version": "3.10.8"
  }
 },
 "nbformat": 4,
 "nbformat_minor": 5
}
